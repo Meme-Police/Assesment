{
  "nbformat": 4,
  "nbformat_minor": 0,
  "metadata": {
    "colab": {
      "name": "Assessment.ipynb",
      "provenance": [],
      "collapsed_sections": [],
      "toc_visible": true
    },
    "kernelspec": {
      "name": "python3",
      "display_name": "Python 3"
    }
  },
  "cells": [
    {
      "cell_type": "markdown",
      "metadata": {
        "id": "E5dpj74Hya2q"
      },
      "source": [
        "# Introduction\n",
        "This assignment will test how well you're able to perform various data science-related tasks.\n",
        "\n",
        "Each Problem Group below will center around a particular dataset that you have worked with before.\n",
        "\n",
        "To ensure you receive full credit for a question, make sure you demonstrate the appropriate pandas, altair, or other commands as requested in the provided code blocks. \n",
        "\n",
        "You may find that some questions require multiple steps to fully answer. Others require some mental arithmetic in addition to pandas commands. Use your best judgment.\n",
        "\n",
        "## Submission\n",
        "Each problem group asks a series of questions. This assignment consists of two submissions:\n",
        "\n",
        "1. After completing the questions below, open the Module 01 Assessment Quiz in Canvas and enter your answers to these questions there.\n",
        "\n",
        "2. After completing and submitting the quiz, save this Colab notebook as a GitHub Gist (You'll need to create a GitHub account for this), by selecting `Save a copy as a GitHub Gist` from the `File` menu above.\n",
        "\n",
        "    In Canvas, open the Module 01 Assessment GitHub Gist assignment and paste the GitHub Gist URL for this notebook. Then submit that assignment."
      ]
    },
    {
      "cell_type": "markdown",
      "metadata": {
        "id": "WgYhh-W3xk4e"
      },
      "source": [
        "## Problem Group 1\n",
        "\n",
        "For the questions in this group, you'll work with the Netflix Movies Dataset found at this url: [https://raw.githubusercontent.com/byui-cse/cse450-course/master/data/netflix_titles.csv](https://raw.githubusercontent.com/byui-cse/cse450-course/master/data/netflix_titles.csv)\n"
      ]
    },
    {
      "cell_type": "markdown",
      "metadata": {
        "id": "kulUs9K7xxB3"
      },
      "source": [
        "### Question 1\n",
        "Load the dataset into a Pandas data frame and determine what data type is used to store the `release_year` feature."
      ]
    },
    {
      "cell_type": "code",
      "metadata": {
        "id": "ecSfSVrsxjx5",
        "outputId": "61d0f845-6630-45b6-a51b-210e27c633f1",
        "colab": {
          "base_uri": "https://localhost:8080/",
          "height": 1000
        }
      },
      "source": [
        "import pandas as pd\r\n",
        "netflix = pd.read_csv(\"https://raw.githubusercontent.com/byui-cse/cse450-course/master/data/netflix_titles.csv\")\r\n",
        "netflix.head(20)"
      ],
      "execution_count": 4,
      "outputs": [
        {
          "output_type": "execute_result",
          "data": {
            "text/html": [
              "<div>\n",
              "<style scoped>\n",
              "    .dataframe tbody tr th:only-of-type {\n",
              "        vertical-align: middle;\n",
              "    }\n",
              "\n",
              "    .dataframe tbody tr th {\n",
              "        vertical-align: top;\n",
              "    }\n",
              "\n",
              "    .dataframe thead th {\n",
              "        text-align: right;\n",
              "    }\n",
              "</style>\n",
              "<table border=\"1\" class=\"dataframe\">\n",
              "  <thead>\n",
              "    <tr style=\"text-align: right;\">\n",
              "      <th></th>\n",
              "      <th>show_id</th>\n",
              "      <th>type</th>\n",
              "      <th>title</th>\n",
              "      <th>director</th>\n",
              "      <th>cast</th>\n",
              "      <th>country</th>\n",
              "      <th>date_added</th>\n",
              "      <th>release_year</th>\n",
              "      <th>rating</th>\n",
              "      <th>duration</th>\n",
              "      <th>listed_in</th>\n",
              "      <th>description</th>\n",
              "    </tr>\n",
              "  </thead>\n",
              "  <tbody>\n",
              "    <tr>\n",
              "      <th>0</th>\n",
              "      <td>81145628</td>\n",
              "      <td>Movie</td>\n",
              "      <td>Norm of the North: King Sized Adventure</td>\n",
              "      <td>Richard Finn, Tim Maltby</td>\n",
              "      <td>Alan Marriott, Andrew Toth, Brian Dobson, Cole...</td>\n",
              "      <td>United States, India, South Korea, China</td>\n",
              "      <td>September 9, 2019</td>\n",
              "      <td>2019</td>\n",
              "      <td>TV-PG</td>\n",
              "      <td>90 min</td>\n",
              "      <td>Children &amp; Family Movies, Comedies</td>\n",
              "      <td>Before planning an awesome wedding for his gra...</td>\n",
              "    </tr>\n",
              "    <tr>\n",
              "      <th>1</th>\n",
              "      <td>80117401</td>\n",
              "      <td>Movie</td>\n",
              "      <td>Jandino: Whatever it Takes</td>\n",
              "      <td>NaN</td>\n",
              "      <td>Jandino Asporaat</td>\n",
              "      <td>United Kingdom</td>\n",
              "      <td>September 9, 2016</td>\n",
              "      <td>2016</td>\n",
              "      <td>TV-MA</td>\n",
              "      <td>94 min</td>\n",
              "      <td>Stand-Up Comedy</td>\n",
              "      <td>Jandino Asporaat riffs on the challenges of ra...</td>\n",
              "    </tr>\n",
              "    <tr>\n",
              "      <th>2</th>\n",
              "      <td>70234439</td>\n",
              "      <td>TV Show</td>\n",
              "      <td>Transformers Prime</td>\n",
              "      <td>NaN</td>\n",
              "      <td>Peter Cullen, Sumalee Montano, Frank Welker, J...</td>\n",
              "      <td>United States</td>\n",
              "      <td>September 8, 2018</td>\n",
              "      <td>2013</td>\n",
              "      <td>TV-Y7-FV</td>\n",
              "      <td>1 Season</td>\n",
              "      <td>Kids' TV</td>\n",
              "      <td>With the help of three human allies, the Autob...</td>\n",
              "    </tr>\n",
              "    <tr>\n",
              "      <th>3</th>\n",
              "      <td>80058654</td>\n",
              "      <td>TV Show</td>\n",
              "      <td>Transformers: Robots in Disguise</td>\n",
              "      <td>NaN</td>\n",
              "      <td>Will Friedle, Darren Criss, Constance Zimmer, ...</td>\n",
              "      <td>United States</td>\n",
              "      <td>September 8, 2018</td>\n",
              "      <td>2016</td>\n",
              "      <td>TV-Y7</td>\n",
              "      <td>1 Season</td>\n",
              "      <td>Kids' TV</td>\n",
              "      <td>When a prison ship crash unleashes hundreds of...</td>\n",
              "    </tr>\n",
              "    <tr>\n",
              "      <th>4</th>\n",
              "      <td>80125979</td>\n",
              "      <td>Movie</td>\n",
              "      <td>#realityhigh</td>\n",
              "      <td>Fernando Lebrija</td>\n",
              "      <td>Nesta Cooper, Kate Walsh, John Michael Higgins...</td>\n",
              "      <td>United States</td>\n",
              "      <td>September 8, 2017</td>\n",
              "      <td>2017</td>\n",
              "      <td>TV-14</td>\n",
              "      <td>99 min</td>\n",
              "      <td>Comedies</td>\n",
              "      <td>When nerdy high schooler Dani finally attracts...</td>\n",
              "    </tr>\n",
              "    <tr>\n",
              "      <th>5</th>\n",
              "      <td>80163890</td>\n",
              "      <td>TV Show</td>\n",
              "      <td>Apaches</td>\n",
              "      <td>NaN</td>\n",
              "      <td>Alberto Ammann, Eloy Azorín, Verónica Echegui,...</td>\n",
              "      <td>Spain</td>\n",
              "      <td>September 8, 2017</td>\n",
              "      <td>2016</td>\n",
              "      <td>TV-MA</td>\n",
              "      <td>1 Season</td>\n",
              "      <td>Crime TV Shows, International TV Shows, Spanis...</td>\n",
              "      <td>A young journalist is forced into a life of cr...</td>\n",
              "    </tr>\n",
              "    <tr>\n",
              "      <th>6</th>\n",
              "      <td>70304989</td>\n",
              "      <td>Movie</td>\n",
              "      <td>Automata</td>\n",
              "      <td>Gabe Ibáñez</td>\n",
              "      <td>Antonio Banderas, Dylan McDermott, Melanie Gri...</td>\n",
              "      <td>Bulgaria, United States, Spain, Canada</td>\n",
              "      <td>September 8, 2017</td>\n",
              "      <td>2014</td>\n",
              "      <td>R</td>\n",
              "      <td>110 min</td>\n",
              "      <td>International Movies, Sci-Fi &amp; Fantasy, Thrillers</td>\n",
              "      <td>In a dystopian future, an insurance adjuster f...</td>\n",
              "    </tr>\n",
              "    <tr>\n",
              "      <th>7</th>\n",
              "      <td>80164077</td>\n",
              "      <td>Movie</td>\n",
              "      <td>Fabrizio Copano: Solo pienso en mi</td>\n",
              "      <td>Rodrigo Toro, Francisco Schultz</td>\n",
              "      <td>Fabrizio Copano</td>\n",
              "      <td>Chile</td>\n",
              "      <td>September 8, 2017</td>\n",
              "      <td>2017</td>\n",
              "      <td>TV-MA</td>\n",
              "      <td>60 min</td>\n",
              "      <td>Stand-Up Comedy</td>\n",
              "      <td>Fabrizio Copano takes audience participation t...</td>\n",
              "    </tr>\n",
              "    <tr>\n",
              "      <th>8</th>\n",
              "      <td>80117902</td>\n",
              "      <td>TV Show</td>\n",
              "      <td>Fire Chasers</td>\n",
              "      <td>NaN</td>\n",
              "      <td>NaN</td>\n",
              "      <td>United States</td>\n",
              "      <td>September 8, 2017</td>\n",
              "      <td>2017</td>\n",
              "      <td>TV-MA</td>\n",
              "      <td>1 Season</td>\n",
              "      <td>Docuseries, Science &amp; Nature TV</td>\n",
              "      <td>As California's 2016 fire season rages, brave ...</td>\n",
              "    </tr>\n",
              "    <tr>\n",
              "      <th>9</th>\n",
              "      <td>70304990</td>\n",
              "      <td>Movie</td>\n",
              "      <td>Good People</td>\n",
              "      <td>Henrik Ruben Genz</td>\n",
              "      <td>James Franco, Kate Hudson, Tom Wilkinson, Omar...</td>\n",
              "      <td>United States, United Kingdom, Denmark, Sweden</td>\n",
              "      <td>September 8, 2017</td>\n",
              "      <td>2014</td>\n",
              "      <td>R</td>\n",
              "      <td>90 min</td>\n",
              "      <td>Action &amp; Adventure, Thrillers</td>\n",
              "      <td>A struggling couple can't believe their luck w...</td>\n",
              "    </tr>\n",
              "    <tr>\n",
              "      <th>10</th>\n",
              "      <td>80169755</td>\n",
              "      <td>Movie</td>\n",
              "      <td>Joaquín Reyes: Una y no más</td>\n",
              "      <td>José Miguel Contreras</td>\n",
              "      <td>Joaquín Reyes</td>\n",
              "      <td>NaN</td>\n",
              "      <td>September 8, 2017</td>\n",
              "      <td>2017</td>\n",
              "      <td>TV-MA</td>\n",
              "      <td>78 min</td>\n",
              "      <td>Stand-Up Comedy</td>\n",
              "      <td>Comedian and celebrity impersonator Joaquín Re...</td>\n",
              "    </tr>\n",
              "    <tr>\n",
              "      <th>11</th>\n",
              "      <td>70299204</td>\n",
              "      <td>Movie</td>\n",
              "      <td>Kidnapping Mr. Heineken</td>\n",
              "      <td>Daniel Alfredson</td>\n",
              "      <td>Jim Sturgess, Sam Worthington, Ryan Kwanten, A...</td>\n",
              "      <td>Netherlands, Belgium, United Kingdom, United S...</td>\n",
              "      <td>September 8, 2017</td>\n",
              "      <td>2015</td>\n",
              "      <td>R</td>\n",
              "      <td>95 min</td>\n",
              "      <td>Action &amp; Adventure, Dramas, International Movies</td>\n",
              "      <td>When beer magnate Alfred \"Freddy\" Heineken is ...</td>\n",
              "    </tr>\n",
              "    <tr>\n",
              "      <th>12</th>\n",
              "      <td>80182480</td>\n",
              "      <td>Movie</td>\n",
              "      <td>Krish Trish and Baltiboy</td>\n",
              "      <td>NaN</td>\n",
              "      <td>Damandeep Singh Baggan, Smita Malhotra, Baba S...</td>\n",
              "      <td>NaN</td>\n",
              "      <td>September 8, 2017</td>\n",
              "      <td>2009</td>\n",
              "      <td>TV-Y7</td>\n",
              "      <td>58 min</td>\n",
              "      <td>Children &amp; Family Movies</td>\n",
              "      <td>A team of minstrels, including a monkey, cat a...</td>\n",
              "    </tr>\n",
              "    <tr>\n",
              "      <th>13</th>\n",
              "      <td>80182483</td>\n",
              "      <td>Movie</td>\n",
              "      <td>Krish Trish and Baltiboy: Battle of Wits</td>\n",
              "      <td>Munjal Shroff, Tilak Shetty</td>\n",
              "      <td>Damandeep Singh Baggan, Smita Malhotra, Baba S...</td>\n",
              "      <td>NaN</td>\n",
              "      <td>September 8, 2017</td>\n",
              "      <td>2013</td>\n",
              "      <td>TV-Y7</td>\n",
              "      <td>62 min</td>\n",
              "      <td>Children &amp; Family Movies</td>\n",
              "      <td>An artisan is cheated of his payment, a lion o...</td>\n",
              "    </tr>\n",
              "    <tr>\n",
              "      <th>14</th>\n",
              "      <td>80182596</td>\n",
              "      <td>Movie</td>\n",
              "      <td>Krish Trish and Baltiboy: Best Friends Forever</td>\n",
              "      <td>Munjal Shroff, Tilak Shetty</td>\n",
              "      <td>Damandeep Singh Baggan, Smita Malhotra, Deepak...</td>\n",
              "      <td>NaN</td>\n",
              "      <td>September 8, 2017</td>\n",
              "      <td>2016</td>\n",
              "      <td>TV-Y</td>\n",
              "      <td>65 min</td>\n",
              "      <td>Children &amp; Family Movies</td>\n",
              "      <td>A cat, monkey and donkey team up to narrate fo...</td>\n",
              "    </tr>\n",
              "    <tr>\n",
              "      <th>15</th>\n",
              "      <td>80182482</td>\n",
              "      <td>Movie</td>\n",
              "      <td>Krish Trish and Baltiboy: Comics of India</td>\n",
              "      <td>Tilak Shetty</td>\n",
              "      <td>Damandeep Singh Baggan, Smita Malhotra, Baba S...</td>\n",
              "      <td>NaN</td>\n",
              "      <td>September 8, 2017</td>\n",
              "      <td>2012</td>\n",
              "      <td>TV-Y7</td>\n",
              "      <td>61 min</td>\n",
              "      <td>Children &amp; Family Movies</td>\n",
              "      <td>In three comic-strip-style tales, a boy tries ...</td>\n",
              "    </tr>\n",
              "    <tr>\n",
              "      <th>16</th>\n",
              "      <td>80182597</td>\n",
              "      <td>Movie</td>\n",
              "      <td>Krish Trish and Baltiboy: Oversmartness Never ...</td>\n",
              "      <td>Tilak Shetty</td>\n",
              "      <td>Rishi Gambhir, Smita Malhotra, Deepak Chachra</td>\n",
              "      <td>NaN</td>\n",
              "      <td>September 8, 2017</td>\n",
              "      <td>2017</td>\n",
              "      <td>TV-Y7</td>\n",
              "      <td>65 min</td>\n",
              "      <td>Children &amp; Family Movies</td>\n",
              "      <td>A cat, monkey and donkey learn the consequence...</td>\n",
              "    </tr>\n",
              "    <tr>\n",
              "      <th>17</th>\n",
              "      <td>80182481</td>\n",
              "      <td>Movie</td>\n",
              "      <td>Krish Trish and Baltiboy: Part II</td>\n",
              "      <td>NaN</td>\n",
              "      <td>Damandeep Singh Baggan, Smita Malhotra, Baba S...</td>\n",
              "      <td>NaN</td>\n",
              "      <td>September 8, 2017</td>\n",
              "      <td>2010</td>\n",
              "      <td>TV-Y7</td>\n",
              "      <td>58 min</td>\n",
              "      <td>Children &amp; Family Movies</td>\n",
              "      <td>Animal minstrels narrate stories about a monke...</td>\n",
              "    </tr>\n",
              "    <tr>\n",
              "      <th>18</th>\n",
              "      <td>80182621</td>\n",
              "      <td>Movie</td>\n",
              "      <td>Krish Trish and Baltiboy: The Greatest Trick</td>\n",
              "      <td>Munjal Shroff, Tilak Shetty</td>\n",
              "      <td>Damandeep Singh Baggan, Smita Malhotra, Baba S...</td>\n",
              "      <td>NaN</td>\n",
              "      <td>September 8, 2017</td>\n",
              "      <td>2013</td>\n",
              "      <td>TV-Y7</td>\n",
              "      <td>60 min</td>\n",
              "      <td>Children &amp; Family Movies</td>\n",
              "      <td>The consequences of trickery are explored in s...</td>\n",
              "    </tr>\n",
              "    <tr>\n",
              "      <th>19</th>\n",
              "      <td>80057969</td>\n",
              "      <td>Movie</td>\n",
              "      <td>Love</td>\n",
              "      <td>Gaspar Noé</td>\n",
              "      <td>Karl Glusman, Klara Kristin, Aomi Muyock, Ugo ...</td>\n",
              "      <td>France, Belgium</td>\n",
              "      <td>September 8, 2017</td>\n",
              "      <td>2015</td>\n",
              "      <td>NR</td>\n",
              "      <td>135 min</td>\n",
              "      <td>Cult Movies, Dramas, Independent Movies</td>\n",
              "      <td>A man in an unsatisfying marriage recalls the ...</td>\n",
              "    </tr>\n",
              "  </tbody>\n",
              "</table>\n",
              "</div>"
            ],
            "text/plain": [
              "     show_id  ...                                        description\n",
              "0   81145628  ...  Before planning an awesome wedding for his gra...\n",
              "1   80117401  ...  Jandino Asporaat riffs on the challenges of ra...\n",
              "2   70234439  ...  With the help of three human allies, the Autob...\n",
              "3   80058654  ...  When a prison ship crash unleashes hundreds of...\n",
              "4   80125979  ...  When nerdy high schooler Dani finally attracts...\n",
              "5   80163890  ...  A young journalist is forced into a life of cr...\n",
              "6   70304989  ...  In a dystopian future, an insurance adjuster f...\n",
              "7   80164077  ...  Fabrizio Copano takes audience participation t...\n",
              "8   80117902  ...  As California's 2016 fire season rages, brave ...\n",
              "9   70304990  ...  A struggling couple can't believe their luck w...\n",
              "10  80169755  ...  Comedian and celebrity impersonator Joaquín Re...\n",
              "11  70299204  ...  When beer magnate Alfred \"Freddy\" Heineken is ...\n",
              "12  80182480  ...  A team of minstrels, including a monkey, cat a...\n",
              "13  80182483  ...  An artisan is cheated of his payment, a lion o...\n",
              "14  80182596  ...  A cat, monkey and donkey team up to narrate fo...\n",
              "15  80182482  ...  In three comic-strip-style tales, a boy tries ...\n",
              "16  80182597  ...  A cat, monkey and donkey learn the consequence...\n",
              "17  80182481  ...  Animal minstrels narrate stories about a monke...\n",
              "18  80182621  ...  The consequences of trickery are explored in s...\n",
              "19  80057969  ...  A man in an unsatisfying marriage recalls the ...\n",
              "\n",
              "[20 rows x 12 columns]"
            ]
          },
          "metadata": {
            "tags": []
          },
          "execution_count": 4
        }
      ]
    },
    {
      "cell_type": "markdown",
      "metadata": {
        "id": "ivpHTGpczpyM"
      },
      "source": [
        "### Question 2\n",
        "Filter your dataset so it contains only `TV Shows`. How many of those TV Shows were rated `TV-Y7`?"
      ]
    },
    {
      "cell_type": "code",
      "metadata": {
        "id": "Zf6QABfXx5Xh",
        "outputId": "0d789cf2-8938-4fd6-ec1e-8d17f59b9352",
        "colab": {
          "base_uri": "https://localhost:8080/"
        }
      },
      "source": [
        "TV = netflix[netflix[\"type\"] == \"TV Show\"]\r\n",
        "TVY7 = TV[TV[\"rating\"] == \"TV-Y7\"]\r\n",
        "TVY7.count()"
      ],
      "execution_count": 45,
      "outputs": [
        {
          "output_type": "execute_result",
          "data": {
            "text/plain": [
              "show_id         100\n",
              "type            100\n",
              "title           100\n",
              "director          7\n",
              "cast             93\n",
              "country          77\n",
              "date_added       99\n",
              "release_year    100\n",
              "rating          100\n",
              "duration        100\n",
              "listed_in       100\n",
              "description     100\n",
              "dtype: int64"
            ]
          },
          "metadata": {
            "tags": []
          },
          "execution_count": 45
        }
      ]
    },
    {
      "cell_type": "markdown",
      "metadata": {
        "id": "-esock-41eGo"
      },
      "source": [
        "### Question 3\n",
        "Further filter your dataset so it only contains TV Shows released between the years 2000 and 2009 inclusive. How many of *those* shows were rated `TV-Y7`?"
      ]
    },
    {
      "cell_type": "code",
      "metadata": {
        "id": "cBNHqCgz0WDp",
        "outputId": "a089070c-7649-425c-958d-1e097416f8b9",
        "colab": {
          "base_uri": "https://localhost:8080/"
        }
      },
      "source": [
        "TV = TV[TV[\"release_year\"] <= 2009]\r\n",
        "TV = TV[TV[\"release_year\"] >= 2000]\r\n",
        "TVY7 = TV[TV[\"rating\"] == \"TV-Y7\"]\r\n",
        "TVY7.count()"
      ],
      "execution_count": 46,
      "outputs": [
        {
          "output_type": "execute_result",
          "data": {
            "text/plain": [
              "show_id         4\n",
              "type            4\n",
              "title           4\n",
              "director        0\n",
              "cast            4\n",
              "country         4\n",
              "date_added      4\n",
              "release_year    4\n",
              "rating          4\n",
              "duration        4\n",
              "listed_in       4\n",
              "description     4\n",
              "dtype: int64"
            ]
          },
          "metadata": {
            "tags": []
          },
          "execution_count": 46
        }
      ]
    },
    {
      "cell_type": "markdown",
      "metadata": {
        "id": "cB4zmoJm3XDj"
      },
      "source": [
        "## Problem Group 2\n",
        "\n",
        "For the questions in this group, you'll work with the Cereal Dataset found at this url: [https://raw.githubusercontent.com/byui-cse/cse450-course/master/data/cereal.csv](https://raw.githubusercontent.com/byui-cse/cse450-course/master/data/cereal.csv)\n"
      ]
    },
    {
      "cell_type": "markdown",
      "metadata": {
        "id": "BE_TdsHa3sMj"
      },
      "source": [
        "### Question 4\n",
        "After importing the dataset into a pandas data frame, determine the median amount of `protein` in cereal brands manufactured by Kelloggs. (`mfr` code \"K\")"
      ]
    },
    {
      "cell_type": "code",
      "metadata": {
        "id": "fBXFGnfP2tfV",
        "outputId": "e45fa99d-48d3-44e2-a97a-f1f622ca707b",
        "colab": {
          "base_uri": "https://localhost:8080/"
        }
      },
      "source": [
        "K = pd.read_csv(\"https://raw.githubusercontent.com/byui-cse/cse450-course/master/data/cereal.csv\")\r\n",
        "K = K[K[\"mfr\"] == \"K\"]\r\n",
        "K[\"protein\"].describe()"
      ],
      "execution_count": 11,
      "outputs": [
        {
          "output_type": "execute_result",
          "data": {
            "text/plain": [
              "count    23.000000\n",
              "mean      2.652174\n",
              "std       1.070628\n",
              "min       1.000000\n",
              "25%       2.000000\n",
              "50%       3.000000\n",
              "75%       3.000000\n",
              "max       6.000000\n",
              "Name: protein, dtype: float64"
            ]
          },
          "metadata": {
            "tags": []
          },
          "execution_count": 11
        }
      ]
    },
    {
      "cell_type": "markdown",
      "metadata": {
        "id": "W3del4PC9NJ-"
      },
      "source": [
        "### Question 5\n",
        "In order to comply with new government regulations, all cereals must now come with a \"Healthiness\" rating. This rating is calculated based on this formula:\n",
        "\n",
        "    healthiness = (protein + fiber) / sugar\n",
        "\n",
        "Create a new `healthiness` column populated with values based on the above formula.\n",
        "\n",
        "Then, determine the median healthiness value for only General Mills cereals (`mfr` = \"G\"), rounded to two decimal places."
      ]
    },
    {
      "cell_type": "code",
      "metadata": {
        "id": "TqFx9yvV6LDX",
        "outputId": "e6ed14ea-7185-4137-b896-3a4f183341da",
        "colab": {
          "base_uri": "https://localhost:8080/"
        }
      },
      "source": [
        "cereal = pd.read_csv(\"https://raw.githubusercontent.com/byui-cse/cse450-course/master/data/cereal.csv\")\r\n",
        "cereal[\"healthiness\"] = (cereal[\"protein\"] + cereal[\"fiber\"]) / cereal[\"sugars\"]\r\n",
        "GHealth = cereal[cereal[\"mfr\"] == \"G\"]\r\n",
        "GHealth = GHealth[\"healthiness\"]\r\n",
        "GHealth.describe()"
      ],
      "execution_count": 17,
      "outputs": [
        {
          "output_type": "execute_result",
          "data": {
            "text/plain": [
              "count    22.000000\n",
              "mean      0.902024\n",
              "std       1.667625\n",
              "min       0.076923\n",
              "25%       0.212500\n",
              "50%       0.475000\n",
              "75%       0.666667\n",
              "max       8.000000\n",
              "Name: healthiness, dtype: float64"
            ]
          },
          "metadata": {
            "tags": []
          },
          "execution_count": 17
        }
      ]
    },
    {
      "cell_type": "markdown",
      "metadata": {
        "id": "AcuUNAxC-g7c"
      },
      "source": [
        "## Problem Group 3\n",
        "\n",
        "For the questions in this group, you'll work with the Titanic Dataset found at this url: [https://raw.githubusercontent.com/byui-cse/cse450-course/master/data/titanic.csv](https://raw.githubusercontent.com/byui-cse/cse450-course/master/data/titanic.csv)"
      ]
    },
    {
      "cell_type": "markdown",
      "metadata": {
        "id": "POOuuXfYAJQK"
      },
      "source": [
        "### Question 6\n",
        "\n",
        "After loading the dataset into a pandas DataFrame, create a new column called `NameGroup` that contains the first letter of the passenger's surname in lower case.\n",
        "\n",
        "Note that in the dataset, passenger's names are provided in the `Name` column and are listed as:\n",
        "\n",
        "    Surname, Given names\n",
        "\n",
        "For example, if a passenger's `Name` is `Braund, Mr. Owen Harris`, the `NameGroup` column should contain the value `b`.\n",
        "\n",
        "Then count how many passengers have a `NameGroup` value of `k`."
      ]
    },
    {
      "cell_type": "code",
      "metadata": {
        "id": "T80gU65-ASFa",
        "outputId": "b7560c7b-afb3-4f03-9484-37867f9b07a1",
        "colab": {
          "base_uri": "https://localhost:8080/"
        }
      },
      "source": [
        "import altair as alt\r\n",
        "titanic = pd.read_csv(\"https://raw.githubusercontent.com/byui-cse/cse450-course/master/data/titanic.csv\")\r\n",
        "\r\n",
        "def doIt(lastName):\r\n",
        "  letter = lastName[0]\r\n",
        "  letter = letter.lower()\r\n",
        "  return letter\r\n",
        "\r\n",
        "titanic[\"NameGroup\"] = titanic[\"Name\"].apply(doIt)\r\n",
        "K = titanic[titanic[\"NameGroup\"] == \"k\"]\r\n",
        "K.count()"
      ],
      "execution_count": 42,
      "outputs": [
        {
          "output_type": "execute_result",
          "data": {
            "text/plain": [
              "PassengerId    28\n",
              "Survived       28\n",
              "Pclass         28\n",
              "Name           28\n",
              "Sex            28\n",
              "Age            16\n",
              "SibSp          28\n",
              "Parch          28\n",
              "Ticket         28\n",
              "Fare           28\n",
              "Cabin           5\n",
              "Embarked       28\n",
              "NameGroup      28\n",
              "dtype: int64"
            ]
          },
          "metadata": {
            "tags": []
          },
          "execution_count": 42
        }
      ]
    },
    {
      "cell_type": "code",
      "metadata": {
        "id": "E81qACTfAWl2"
      },
      "source": [
        ""
      ],
      "execution_count": null,
      "outputs": []
    }
  ]
}